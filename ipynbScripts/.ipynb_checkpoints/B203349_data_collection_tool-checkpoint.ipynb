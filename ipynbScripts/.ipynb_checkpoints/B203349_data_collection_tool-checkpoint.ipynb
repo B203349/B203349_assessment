{
 "cells": [
  {
   "cell_type": "markdown",
   "id": "expired-liver",
   "metadata": {},
   "source": [
    "## Loading of initial data"
   ]
  },
  {
   "cell_type": "markdown",
   "id": "spoken-dodge",
   "metadata": {},
   "source": [
    "### Load requisite python packages"
   ]
  },
  {
   "cell_type": "code",
   "execution_count": 1,
   "id": "widespread-savings",
   "metadata": {},
   "outputs": [],
   "source": [
    "#Load the 'pandas' package\n",
    "import pandas as pd\n",
    "#Load the 'ipywidgets' package\n",
    "import ipywidgets as widgets\n",
    "#Load the 'IPython.display' package\n",
    "from IPython.display import display\n",
    "#Load the 'numpy' package\n",
    "import numpy as np"
   ]
  },
  {
   "cell_type": "markdown",
   "id": "expressed-algorithm",
   "metadata": {},
   "source": [
    "### Load test data"
   ]
  },
  {
   "cell_type": "code",
   "execution_count": 2,
   "id": "acceptable-tension",
   "metadata": {},
   "outputs": [
    {
     "data": {
      "text/html": [
       "<div>\n",
       "<style scoped>\n",
       "    .dataframe tbody tr th:only-of-type {\n",
       "        vertical-align: middle;\n",
       "    }\n",
       "\n",
       "    .dataframe tbody tr th {\n",
       "        vertical-align: top;\n",
       "    }\n",
       "\n",
       "    .dataframe thead th {\n",
       "        text-align: right;\n",
       "    }\n",
       "</style>\n",
       "<table border=\"1\" class=\"dataframe\">\n",
       "  <thead>\n",
       "    <tr style=\"text-align: right;\">\n",
       "      <th></th>\n",
       "      <th>index</th>\n",
       "      <th>period</th>\n",
       "      <th>org_code</th>\n",
       "      <th>type</th>\n",
       "      <th>attendances</th>\n",
       "      <th>breaches</th>\n",
       "      <th>admissions</th>\n",
       "    </tr>\n",
       "  </thead>\n",
       "  <tbody>\n",
       "    <tr>\n",
       "      <th>0</th>\n",
       "      <td>1155</td>\n",
       "      <td>2016-12-01</td>\n",
       "      <td>C82010</td>\n",
       "      <td>other</td>\n",
       "      <td>200</td>\n",
       "      <td>0</td>\n",
       "      <td>0</td>\n",
       "    </tr>\n",
       "    <tr>\n",
       "      <th>1</th>\n",
       "      <td>2059</td>\n",
       "      <td>2016-10-01</td>\n",
       "      <td>RDZ</td>\n",
       "      <td>1</td>\n",
       "      <td>6452</td>\n",
       "      <td>360</td>\n",
       "      <td>1814</td>\n",
       "    </tr>\n",
       "    <tr>\n",
       "      <th>2</th>\n",
       "      <td>3468</td>\n",
       "      <td>2016-05-01</td>\n",
       "      <td>RVR</td>\n",
       "      <td>2</td>\n",
       "      <td>417</td>\n",
       "      <td>0</td>\n",
       "      <td>6</td>\n",
       "    </tr>\n",
       "    <tr>\n",
       "      <th>3</th>\n",
       "      <td>4153</td>\n",
       "      <td>2018-03-01</td>\n",
       "      <td>RQM</td>\n",
       "      <td>other</td>\n",
       "      <td>9376</td>\n",
       "      <td>112</td>\n",
       "      <td>0</td>\n",
       "    </tr>\n",
       "    <tr>\n",
       "      <th>4</th>\n",
       "      <td>4820</td>\n",
       "      <td>2018-02-01</td>\n",
       "      <td>R1F</td>\n",
       "      <td>other</td>\n",
       "      <td>245</td>\n",
       "      <td>0</td>\n",
       "      <td>0</td>\n",
       "    </tr>\n",
       "    <tr>\n",
       "      <th>5</th>\n",
       "      <td>7243</td>\n",
       "      <td>2017-07-01</td>\n",
       "      <td>RE9</td>\n",
       "      <td>1</td>\n",
       "      <td>5170</td>\n",
       "      <td>235</td>\n",
       "      <td>1269</td>\n",
       "    </tr>\n",
       "    <tr>\n",
       "      <th>6</th>\n",
       "      <td>8057</td>\n",
       "      <td>2017-04-01</td>\n",
       "      <td>RQM</td>\n",
       "      <td>1</td>\n",
       "      <td>15957</td>\n",
       "      <td>1309</td>\n",
       "      <td>3375</td>\n",
       "    </tr>\n",
       "    <tr>\n",
       "      <th>7</th>\n",
       "      <td>8957</td>\n",
       "      <td>2019-02-01</td>\n",
       "      <td>RNL</td>\n",
       "      <td>1</td>\n",
       "      <td>7258</td>\n",
       "      <td>1374</td>\n",
       "      <td>1947</td>\n",
       "    </tr>\n",
       "    <tr>\n",
       "      <th>8</th>\n",
       "      <td>10214</td>\n",
       "      <td>2018-10-01</td>\n",
       "      <td>RJ1</td>\n",
       "      <td>other</td>\n",
       "      <td>3197</td>\n",
       "      <td>0</td>\n",
       "      <td>0</td>\n",
       "    </tr>\n",
       "    <tr>\n",
       "      <th>9</th>\n",
       "      <td>10328</td>\n",
       "      <td>2018-10-01</td>\n",
       "      <td>RKB</td>\n",
       "      <td>2</td>\n",
       "      <td>2033</td>\n",
       "      <td>8</td>\n",
       "      <td>105</td>\n",
       "    </tr>\n",
       "    <tr>\n",
       "      <th>10</th>\n",
       "      <td>11767</td>\n",
       "      <td>2018-06-01</td>\n",
       "      <td>NLO12</td>\n",
       "      <td>other</td>\n",
       "      <td>336</td>\n",
       "      <td>1</td>\n",
       "      <td>0</td>\n",
       "    </tr>\n",
       "  </tbody>\n",
       "</table>\n",
       "</div>"
      ],
      "text/plain": [
       "    index      period org_code   type  attendances  breaches  admissions\n",
       "0    1155  2016-12-01   C82010  other          200         0           0\n",
       "1    2059  2016-10-01      RDZ      1         6452       360        1814\n",
       "2    3468  2016-05-01      RVR      2          417         0           6\n",
       "3    4153  2018-03-01      RQM  other         9376       112           0\n",
       "4    4820  2018-02-01      R1F  other          245         0           0\n",
       "5    7243  2017-07-01      RE9      1         5170       235        1269\n",
       "6    8057  2017-04-01      RQM      1        15957      1309        3375\n",
       "7    8957  2019-02-01      RNL      1         7258      1374        1947\n",
       "8   10214  2018-10-01      RJ1  other         3197         0           0\n",
       "9   10328  2018-10-01      RKB      2         2033         8         105\n",
       "10  11767  2018-06-01    NLO12  other          336         1           0"
      ]
     },
     "execution_count": 2,
     "metadata": {},
     "output_type": "execute_result"
    }
   ],
   "source": [
    "testData=pd.read_csv(\"../Data/ae_attendances_test.csv\")\n",
    "testData"
   ]
  },
  {
   "cell_type": "code",
   "execution_count": 3,
   "id": "induced-professor",
   "metadata": {},
   "outputs": [
    {
     "name": "stdout",
     "output_type": "stream",
     "text": [
      "Output:\n",
      "index           int64\n",
      "period         object\n",
      "org_code       object\n",
      "type           object\n",
      "attendances     int64\n",
      "breaches        int64\n",
      "admissions      int64\n",
      "dtype: object\n"
     ]
    }
   ],
   "source": [
    "#confirm data types\n",
    "result = testData.dtypes\n",
    "print(\"Output:\")\n",
    "print(result)"
   ]
  },
  {
   "cell_type": "markdown",
   "id": "cultural-appliance",
   "metadata": {},
   "source": [
    "### Set up empty data frame"
   ]
  },
  {
   "cell_type": "code",
   "execution_count": 4,
   "id": "particular-inspector",
   "metadata": {},
   "outputs": [
    {
     "data": {
      "text/html": [
       "<div>\n",
       "<style scoped>\n",
       "    .dataframe tbody tr th:only-of-type {\n",
       "        vertical-align: middle;\n",
       "    }\n",
       "\n",
       "    .dataframe tbody tr th {\n",
       "        vertical-align: top;\n",
       "    }\n",
       "\n",
       "    .dataframe thead th {\n",
       "        text-align: right;\n",
       "    }\n",
       "</style>\n",
       "<table border=\"1\" class=\"dataframe\">\n",
       "  <thead>\n",
       "    <tr style=\"text-align: right;\">\n",
       "      <th></th>\n",
       "      <th>index</th>\n",
       "      <th>period</th>\n",
       "      <th>org_code</th>\n",
       "      <th>type</th>\n",
       "      <th>attendances</th>\n",
       "      <th>breaches</th>\n",
       "      <th>admissions</th>\n",
       "      <th>consent</th>\n",
       "    </tr>\n",
       "  </thead>\n",
       "  <tbody>\n",
       "    <tr>\n",
       "      <th>0</th>\n",
       "      <td>0</td>\n",
       "      <td>2000-01-01</td>\n",
       "      <td>NA</td>\n",
       "      <td>NA</td>\n",
       "      <td>0</td>\n",
       "      <td>0</td>\n",
       "      <td>0</td>\n",
       "      <td>False</td>\n",
       "    </tr>\n",
       "  </tbody>\n",
       "</table>\n",
       "</div>"
      ],
      "text/plain": [
       "   index     period org_code type  attendances  breaches  admissions  consent\n",
       "0      0 2000-01-01       NA   NA            0         0           0    False"
      ]
     },
     "execution_count": 4,
     "metadata": {},
     "output_type": "execute_result"
    }
   ],
   "source": [
    "dfTofill = pd.DataFrame({'index': [0],# Integer\n",
    "                   'period': [pd.Timestamp('20000101')], # Date\n",
    "                   'org_code': ['NA'], # String\n",
    "                   'type': ['NA'], # String\n",
    "                   'attendances': [0], # Integer\n",
    "                   'breaches': [0], # Integer\n",
    "                   'admissions': [0], # Integer\n",
    "                   'consent': [False]}) # Boolean \n",
    "\n",
    "dfTofill"
   ]
  },
  {
   "cell_type": "markdown",
   "id": "wrapped-talent",
   "metadata": {},
   "source": [
    "Save the empty data frame to your working 'Data' folder (commented out out to prevent wiping file when re-running code)"
   ]
  },
  {
   "cell_type": "code",
   "execution_count": null,
   "id": "eight-experiment",
   "metadata": {},
   "outputs": [],
   "source": [
    "#dfTofill.to_csv('../Data/CollectedData.csv', index=False)"
   ]
  },
  {
   "cell_type": "markdown",
   "id": "incorrect-sound",
   "metadata": {},
   "source": [
    "Read empty 'CollectedData' dataframe"
   ]
  },
  {
   "cell_type": "code",
   "execution_count": null,
   "id": "hundred-precipitation",
   "metadata": {},
   "outputs": [],
   "source": [
    "CollectData=pd.read_csv(\"../Data/CollectedData.csv\")\n",
    "CollectData"
   ]
  },
  {
   "cell_type": "markdown",
   "id": "genuine-occasion",
   "metadata": {},
   "source": [
    "# Indexing\n",
    "\n",
    "Add the index number to the *'dfTofill'* file"
   ]
  },
  {
   "cell_type": "code",
   "execution_count": null,
   "id": "preceding-costume",
   "metadata": {},
   "outputs": [],
   "source": [
    "index_number=11767 #Remember to change for each record.\n",
    "dfTofill.iloc[0,0]=index_number\n",
    "dfTofill"
   ]
  },
  {
   "cell_type": "markdown",
   "id": "outside-railway",
   "metadata": {},
   "source": [
    "# Widgets"
   ]
  },
  {
   "cell_type": "markdown",
   "id": "complicated-miller",
   "metadata": {},
   "source": [
    "## Inserting consent"
   ]
  },
  {
   "cell_type": "markdown",
   "id": "consolidated-manufacturer",
   "metadata": {},
   "source": [
    "### Checkbox widget\n",
    "To capture the value for consent which is Boolean (i.e. True or False)"
   ]
  },
  {
   "cell_type": "code",
   "execution_count": null,
   "id": "patient-entrepreneur",
   "metadata": {},
   "outputs": [],
   "source": [
    "a = widgets.Checkbox(\n",
    "    value=False,\n",
    "    description='I consent for the data I have provided to be processed and shared in accordance with data protection regulations with the purpose of improving care service provision across the UK.',\n",
    "    disabled=False,\n",
    "    layout=widgets.Layout(width='1300px')) #layout ammended to allow display of full text\n",
    "display(a)"
   ]
  },
  {
   "cell_type": "markdown",
   "id": "suited-louisville",
   "metadata": {},
   "source": [
    "Add result from checkbox to 'dataTofill' dataframe"
   ]
  },
  {
   "cell_type": "code",
   "execution_count": null,
   "id": "wooden-greene",
   "metadata": {},
   "outputs": [],
   "source": [
    "dfTofill.iloc[0,7]=a.value\n",
    "dfTofill"
   ]
  },
  {
   "cell_type": "markdown",
   "id": "agricultural-strategy",
   "metadata": {},
   "source": [
    "# Inserting the date"
   ]
  },
  {
   "cell_type": "markdown",
   "id": "joint-layer",
   "metadata": {},
   "source": [
    "### DatePicker widget\n",
    "\n",
    "To input the period which is an object (string)"
   ]
  },
  {
   "cell_type": "code",
   "execution_count": null,
   "id": "alien-translator",
   "metadata": {},
   "outputs": [],
   "source": [
    "testData.head(n=1)"
   ]
  },
  {
   "cell_type": "code",
   "execution_count": null,
   "id": "empirical-improvement",
   "metadata": {},
   "outputs": [],
   "source": [
    "b = widgets.DatePicker(\n",
    "    description='Period',\n",
    "    disabled=False\n",
    ")\n",
    "display(b)"
   ]
  },
  {
   "cell_type": "code",
   "execution_count": null,
   "id": "little-calgary",
   "metadata": {},
   "outputs": [],
   "source": [
    "dfTofill.iloc[0,1]=b.value\n",
    "dfTofill"
   ]
  },
  {
   "cell_type": "markdown",
   "id": "respective-quantity",
   "metadata": {},
   "source": [
    "## Inserting *org_code* and *type*"
   ]
  },
  {
   "cell_type": "markdown",
   "id": "dress-raleigh",
   "metadata": {},
   "source": [
    "Compute descriptive statistics for testData to identify how many unique options there will be for the variables *org_code* and *type*"
   ]
  },
  {
   "cell_type": "code",
   "execution_count": null,
   "id": "technical-vatican",
   "metadata": {},
   "outputs": [],
   "source": [
    "testData.describe(include='all')"
   ]
  },
  {
   "cell_type": "markdown",
   "id": "cathedral-southeast",
   "metadata": {},
   "source": [
    "Obtain the unique ODS code for the organisations in the testData"
   ]
  },
  {
   "cell_type": "markdown",
   "id": "manufactured-chosen",
   "metadata": {},
   "source": [
    "### Selection widget\n",
    "\n",
    "Selection widget for the 'org_code' was chosen as there are 11 options\n"
   ]
  },
  {
   "cell_type": "markdown",
   "id": "another-awareness",
   "metadata": {},
   "source": [
    "Apply the `unique()` function to create the object 'org_code' which contains the options for the 'org_code' variable"
   ]
  },
  {
   "cell_type": "code",
   "execution_count": null,
   "id": "exclusive-optimization",
   "metadata": {},
   "outputs": [],
   "source": [
    "org_code=list(testData['org_code'].unique())\n",
    "org_code"
   ]
  },
  {
   "cell_type": "markdown",
   "id": "bound-clothing",
   "metadata": {},
   "source": [
    "Apply the **Selection** widget"
   ]
  },
  {
   "cell_type": "code",
   "execution_count": null,
   "id": "excessive-federation",
   "metadata": {},
   "outputs": [],
   "source": [
    "c=widgets.Select(\n",
    "    options=org_code,\n",
    "    value='C82010',\n",
    "    rows=len(org_code),\n",
    "    description='ODS code:',\n",
    "    disabled=False\n",
    ")\n",
    "display(c)"
   ]
  },
  {
   "cell_type": "code",
   "execution_count": null,
   "id": "varying-sociology",
   "metadata": {},
   "outputs": [],
   "source": [
    "dfTofill.iloc[0,2]=c.value\n",
    "dfTofill"
   ]
  },
  {
   "cell_type": "markdown",
   "id": "traditional-configuration",
   "metadata": {},
   "source": [
    "### Radio button widget\n",
    "\n",
    "Radio button for the 'Type Variable' as this is one of only three options "
   ]
  },
  {
   "cell_type": "markdown",
   "id": "exterior-toolbox",
   "metadata": {},
   "source": [
    "Apply the `unique()` function to create the object 'type' which contains the options for the 'Type Variable'"
   ]
  },
  {
   "cell_type": "code",
   "execution_count": null,
   "id": "mental-tenant",
   "metadata": {},
   "outputs": [],
   "source": [
    "type=list(testData['type'].unique())\n",
    "type"
   ]
  },
  {
   "cell_type": "markdown",
   "id": "aware-sigma",
   "metadata": {},
   "source": [
    "Apply the **Radio button** widget"
   ]
  },
  {
   "cell_type": "code",
   "execution_count": null,
   "id": "located-judgment",
   "metadata": {},
   "outputs": [],
   "source": [
    "d=widgets.RadioButtons(\n",
    "    options=type,\n",
    "    value='other',\n",
    "    description='Type:',\n",
    "    disabled=False\n",
    ")\n",
    "display(d)"
   ]
  },
  {
   "cell_type": "code",
   "execution_count": null,
   "id": "phantom-palestinian",
   "metadata": {},
   "outputs": [],
   "source": [
    "dfTofill.iloc[0,3]=d.value\n",
    "dfTofill"
   ]
  },
  {
   "cell_type": "markdown",
   "id": "mathematical-value",
   "metadata": {},
   "source": [
    "## Inserting Attendances, Breaches, and Admissions \n",
    "\n",
    "These are all whole numbers, therefore the **IntText** widget will be used"
   ]
  },
  {
   "cell_type": "markdown",
   "id": "responsible-stage",
   "metadata": {},
   "source": [
    "### IntText widget"
   ]
  },
  {
   "cell_type": "markdown",
   "id": "younger-rapid",
   "metadata": {},
   "source": [
    "### Attendances\n",
    "Insert value for ED attendances"
   ]
  },
  {
   "cell_type": "code",
   "execution_count": null,
   "id": "bound-corner",
   "metadata": {},
   "outputs": [],
   "source": [
    "e=widgets.IntText(\n",
    "    value=0,\n",
    "    description='Attendances:',\n",
    "    disabled=False)\n",
    "display(e)"
   ]
  },
  {
   "cell_type": "code",
   "execution_count": null,
   "id": "laden-space",
   "metadata": {},
   "outputs": [],
   "source": [
    "dfTofill.iloc[0,4]=e.value\n",
    "dfTofill"
   ]
  },
  {
   "cell_type": "markdown",
   "id": "rolled-spelling",
   "metadata": {},
   "source": [
    "### Breaches\n",
    "Insert value for 4hr breaches for the defined period"
   ]
  },
  {
   "cell_type": "code",
   "execution_count": null,
   "id": "arbitrary-beast",
   "metadata": {},
   "outputs": [],
   "source": [
    "f=widgets.IntText(\n",
    "    value=0,\n",
    "    description='Breaches:',\n",
    "    disabled=False)\n",
    "display(f)"
   ]
  },
  {
   "cell_type": "code",
   "execution_count": null,
   "id": "southeast-meter",
   "metadata": {},
   "outputs": [],
   "source": [
    "dfTofill.iloc[0,5]=f.value\n",
    "dfTofill"
   ]
  },
  {
   "cell_type": "markdown",
   "id": "meaning-utilization",
   "metadata": {},
   "source": [
    "### Admissions \n",
    "Insert value for admissions from the ED"
   ]
  },
  {
   "cell_type": "code",
   "execution_count": null,
   "id": "fifteen-gamma",
   "metadata": {},
   "outputs": [],
   "source": [
    "g=widgets.IntText(\n",
    "    value=0,\n",
    "    description='Admissions:',\n",
    "    disabled=False)\n",
    "display(g)"
   ]
  },
  {
   "cell_type": "code",
   "execution_count": null,
   "id": "strong-converter",
   "metadata": {},
   "outputs": [],
   "source": [
    "dfTofill.iloc[0,6]=g.value\n",
    "dfTofill"
   ]
  },
  {
   "cell_type": "markdown",
   "id": "executed-interest",
   "metadata": {},
   "source": [
    "# Saving the collected data"
   ]
  },
  {
   "cell_type": "markdown",
   "id": "headed-astronomy",
   "metadata": {},
   "source": [
    "## Concatenating the collected data to the CollectData data frame.   \n",
    "\n",
    "`concat()` function is used to append the CollectData and dfTofill data frames. "
   ]
  },
  {
   "cell_type": "code",
   "execution_count": null,
   "id": "interracial-presentation",
   "metadata": {},
   "outputs": [],
   "source": [
    "CollectData  = pd.concat([CollectData, dfTofill])\n",
    "display(CollectData)"
   ]
  },
  {
   "cell_type": "markdown",
   "id": "worldwide-combining",
   "metadata": {},
   "source": [
    "## Confirming that consent is obtained"
   ]
  },
  {
   "cell_type": "code",
   "execution_count": null,
   "id": "promotional-kingston",
   "metadata": {},
   "outputs": [],
   "source": [
    "CollectData=CollectData[CollectData['consent'] == True]\n",
    "display(CollectData)"
   ]
  },
  {
   "cell_type": "markdown",
   "id": "effective-diameter",
   "metadata": {},
   "source": [
    "## Saving the CollectData data frame"
   ]
  },
  {
   "cell_type": "markdown",
   "id": "insured-clearing",
   "metadata": {},
   "source": [
    "Saving the data collected by your data-capture tool to the working data folder:"
   ]
  },
  {
   "cell_type": "code",
   "execution_count": null,
   "id": "copyrighted-consultation",
   "metadata": {},
   "outputs": [],
   "source": [
    "CollectData.to_csv('../Data/CollectedData.csv', index=False)"
   ]
  },
  {
   "cell_type": "markdown",
   "id": "second-projection",
   "metadata": {},
   "source": [
    "Once all captured data collected, then save captured test data to your 'RawData' folder."
   ]
  },
  {
   "cell_type": "code",
   "execution_count": null,
   "id": "searching-fusion",
   "metadata": {},
   "outputs": [],
   "source": [
    "CollectData.to_csv('../RawData/CollectedDataFinal.csv', index=False)"
   ]
  },
  {
   "cell_type": "markdown",
   "id": "thick-exclusion",
   "metadata": {},
   "source": [
    "## The Box widget\n",
    "The Box widget enables rich reactive layouts in the Jupyter Notebook. It aims at providing an efficient way to lay out, align and distribute space among your widgets in a box. The HBox (Horizontal layout) and VBox (vertical layout) classes above are special cases of the Box widget."
   ]
  },
  {
   "cell_type": "code",
   "execution_count": null,
   "id": "removed-poster",
   "metadata": {},
   "outputs": [],
   "source": [
    "form=widgets.VBox([a,b,c,d,e,f,g])"
   ]
  },
  {
   "cell_type": "code",
   "execution_count": null,
   "id": "intense-archives",
   "metadata": {},
   "outputs": [],
   "source": [
    "display(form)"
   ]
  }
 ],
 "metadata": {
  "kernelspec": {
   "display_name": "Python 3 (ipykernel)",
   "language": "python",
   "name": "python3"
  },
  "language_info": {
   "codemirror_mode": {
    "name": "ipython",
    "version": 3
   },
   "file_extension": ".py",
   "mimetype": "text/x-python",
   "name": "python",
   "nbconvert_exporter": "python",
   "pygments_lexer": "ipython3",
   "version": "3.9.2"
  }
 },
 "nbformat": 4,
 "nbformat_minor": 5
}
